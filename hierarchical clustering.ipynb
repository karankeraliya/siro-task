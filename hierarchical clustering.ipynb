{
 "cells": [
  {
   "cell_type": "code",
   "execution_count": 1,
   "id": "3bf5d5d4",
   "metadata": {},
   "outputs": [
    {
     "name": "stdout",
     "output_type": "stream",
     "text": [
      "karan\n"
     ]
    }
   ],
   "source": [
    "print(\"karan\")"
   ]
  },
  {
   "cell_type": "code",
   "execution_count": 4,
   "id": "dc85f2d4",
   "metadata": {},
   "outputs": [],
   "source": [
    "import pandas as pd\n",
    "\n",
    "df_master_clean = pd.read_csv(\"df_master_cleaned.csv\")"
   ]
  },
  {
   "cell_type": "code",
   "execution_count": 5,
   "id": "87c1fe38",
   "metadata": {},
   "outputs": [
    {
     "data": {
      "text/html": [
       "<div>\n",
       "<style scoped>\n",
       "    .dataframe tbody tr th:only-of-type {\n",
       "        vertical-align: middle;\n",
       "    }\n",
       "\n",
       "    .dataframe tbody tr th {\n",
       "        vertical-align: top;\n",
       "    }\n",
       "\n",
       "    .dataframe thead th {\n",
       "        text-align: right;\n",
       "    }\n",
       "</style>\n",
       "<table border=\"1\" class=\"dataframe\">\n",
       "  <thead>\n",
       "    <tr style=\"text-align: right;\">\n",
       "      <th></th>\n",
       "      <th>PATIENT</th>\n",
       "      <th>HEALTHCARE_EXPENSES</th>\n",
       "      <th>HEALTHCARE_COVERAGE</th>\n",
       "      <th>INCOME</th>\n",
       "      <th>AGE</th>\n",
       "      <th>ALIVE</th>\n",
       "      <th>MARITAL_D</th>\n",
       "      <th>MARITAL_M</th>\n",
       "      <th>MARITAL_S</th>\n",
       "      <th>MARITAL_W</th>\n",
       "      <th>...</th>\n",
       "      <th>a735bf55-83e9-331a-899d-a82a60b9f60c</th>\n",
       "      <th>b046940f-1664-3047-bca7-dfa76be352a4</th>\n",
       "      <th>d18ef2e6-ef40-324c-be54-34a5ee865625</th>\n",
       "      <th>d31fccc3-1767-390d-966a-22a5156f4219</th>\n",
       "      <th>df166300-5a78-3502-a46a-832842197811</th>\n",
       "      <th>e03e23c9-4df1-3eb6-a62d-f70f02301496</th>\n",
       "      <th>PLAN_OWNERSHIP_Guardian</th>\n",
       "      <th>PLAN_OWNERSHIP_Self</th>\n",
       "      <th>PLAN_OWNERSHIP_Spouse</th>\n",
       "      <th>PLAN_OWNERSHIP_Unknown</th>\n",
       "    </tr>\n",
       "  </thead>\n",
       "  <tbody>\n",
       "    <tr>\n",
       "      <th>0</th>\n",
       "      <td>34a210f9-5ce1-ad63-790f-e404455e3e18</td>\n",
       "      <td>76578.32</td>\n",
       "      <td>15866.26</td>\n",
       "      <td>71625</td>\n",
       "      <td>32</td>\n",
       "      <td>0</td>\n",
       "      <td>0</td>\n",
       "      <td>0</td>\n",
       "      <td>1</td>\n",
       "      <td>0</td>\n",
       "      <td>...</td>\n",
       "      <td>0.0</td>\n",
       "      <td>0.0</td>\n",
       "      <td>0.0</td>\n",
       "      <td>1.0</td>\n",
       "      <td>0.0</td>\n",
       "      <td>0.0</td>\n",
       "      <td>0.0</td>\n",
       "      <td>1.0</td>\n",
       "      <td>0.0</td>\n",
       "      <td>0.0</td>\n",
       "    </tr>\n",
       "    <tr>\n",
       "      <th>1</th>\n",
       "      <td>0fe22cec-1a19-99da-b67f-7ce364c4cf3e</td>\n",
       "      <td>146375.89</td>\n",
       "      <td>544097.84</td>\n",
       "      <td>542941</td>\n",
       "      <td>38</td>\n",
       "      <td>0</td>\n",
       "      <td>0</td>\n",
       "      <td>1</td>\n",
       "      <td>0</td>\n",
       "      <td>0</td>\n",
       "      <td>...</td>\n",
       "      <td>0.0</td>\n",
       "      <td>1.0</td>\n",
       "      <td>0.0</td>\n",
       "      <td>0.0</td>\n",
       "      <td>0.0</td>\n",
       "      <td>0.0</td>\n",
       "      <td>0.0</td>\n",
       "      <td>1.0</td>\n",
       "      <td>1.0</td>\n",
       "      <td>0.0</td>\n",
       "    </tr>\n",
       "    <tr>\n",
       "      <th>2</th>\n",
       "      <td>b1f7b5a9-5cf5-6050-b23c-81027f53bdfd</td>\n",
       "      <td>173374.13</td>\n",
       "      <td>476542.11</td>\n",
       "      <td>886745</td>\n",
       "      <td>36</td>\n",
       "      <td>0</td>\n",
       "      <td>0</td>\n",
       "      <td>1</td>\n",
       "      <td>0</td>\n",
       "      <td>0</td>\n",
       "      <td>...</td>\n",
       "      <td>0.0</td>\n",
       "      <td>0.0</td>\n",
       "      <td>0.0</td>\n",
       "      <td>0.0</td>\n",
       "      <td>0.0</td>\n",
       "      <td>0.0</td>\n",
       "      <td>0.0</td>\n",
       "      <td>1.0</td>\n",
       "      <td>1.0</td>\n",
       "      <td>0.0</td>\n",
       "    </tr>\n",
       "    <tr>\n",
       "      <th>3</th>\n",
       "      <td>1f2aa6c9-41bd-aa05-9da3-e557d8949816</td>\n",
       "      <td>76375.47</td>\n",
       "      <td>647647.36</td>\n",
       "      <td>35850</td>\n",
       "      <td>32</td>\n",
       "      <td>0</td>\n",
       "      <td>0</td>\n",
       "      <td>1</td>\n",
       "      <td>0</td>\n",
       "      <td>0</td>\n",
       "      <td>...</td>\n",
       "      <td>1.0</td>\n",
       "      <td>0.0</td>\n",
       "      <td>0.0</td>\n",
       "      <td>0.0</td>\n",
       "      <td>0.0</td>\n",
       "      <td>0.0</td>\n",
       "      <td>0.0</td>\n",
       "      <td>1.0</td>\n",
       "      <td>1.0</td>\n",
       "      <td>0.0</td>\n",
       "    </tr>\n",
       "    <tr>\n",
       "      <th>4</th>\n",
       "      <td>80e114d1-013b-b546-7aba-17eb360dde04</td>\n",
       "      <td>135954.44</td>\n",
       "      <td>262321.29</td>\n",
       "      <td>149942</td>\n",
       "      <td>26</td>\n",
       "      <td>0</td>\n",
       "      <td>0</td>\n",
       "      <td>0</td>\n",
       "      <td>0</td>\n",
       "      <td>0</td>\n",
       "      <td>...</td>\n",
       "      <td>0.0</td>\n",
       "      <td>0.0</td>\n",
       "      <td>0.0</td>\n",
       "      <td>0.0</td>\n",
       "      <td>0.0</td>\n",
       "      <td>0.0</td>\n",
       "      <td>1.0</td>\n",
       "      <td>1.0</td>\n",
       "      <td>0.0</td>\n",
       "      <td>0.0</td>\n",
       "    </tr>\n",
       "  </tbody>\n",
       "</table>\n",
       "<p>5 rows × 281 columns</p>\n",
       "</div>"
      ],
      "text/plain": [
       "                                PATIENT  HEALTHCARE_EXPENSES  \\\n",
       "0  34a210f9-5ce1-ad63-790f-e404455e3e18             76578.32   \n",
       "1  0fe22cec-1a19-99da-b67f-7ce364c4cf3e            146375.89   \n",
       "2  b1f7b5a9-5cf5-6050-b23c-81027f53bdfd            173374.13   \n",
       "3  1f2aa6c9-41bd-aa05-9da3-e557d8949816             76375.47   \n",
       "4  80e114d1-013b-b546-7aba-17eb360dde04            135954.44   \n",
       "\n",
       "   HEALTHCARE_COVERAGE  INCOME  AGE  ALIVE  MARITAL_D  MARITAL_M  MARITAL_S  \\\n",
       "0             15866.26   71625   32      0          0          0          1   \n",
       "1            544097.84  542941   38      0          0          1          0   \n",
       "2            476542.11  886745   36      0          0          1          0   \n",
       "3            647647.36   35850   32      0          0          1          0   \n",
       "4            262321.29  149942   26      0          0          0          0   \n",
       "\n",
       "   MARITAL_W  ...  a735bf55-83e9-331a-899d-a82a60b9f60c  \\\n",
       "0          0  ...                                   0.0   \n",
       "1          0  ...                                   0.0   \n",
       "2          0  ...                                   0.0   \n",
       "3          0  ...                                   1.0   \n",
       "4          0  ...                                   0.0   \n",
       "\n",
       "   b046940f-1664-3047-bca7-dfa76be352a4  d18ef2e6-ef40-324c-be54-34a5ee865625  \\\n",
       "0                                   0.0                                   0.0   \n",
       "1                                   1.0                                   0.0   \n",
       "2                                   0.0                                   0.0   \n",
       "3                                   0.0                                   0.0   \n",
       "4                                   0.0                                   0.0   \n",
       "\n",
       "   d31fccc3-1767-390d-966a-22a5156f4219  df166300-5a78-3502-a46a-832842197811  \\\n",
       "0                                   1.0                                   0.0   \n",
       "1                                   0.0                                   0.0   \n",
       "2                                   0.0                                   0.0   \n",
       "3                                   0.0                                   0.0   \n",
       "4                                   0.0                                   0.0   \n",
       "\n",
       "   e03e23c9-4df1-3eb6-a62d-f70f02301496  PLAN_OWNERSHIP_Guardian  \\\n",
       "0                                   0.0                      0.0   \n",
       "1                                   0.0                      0.0   \n",
       "2                                   0.0                      0.0   \n",
       "3                                   0.0                      0.0   \n",
       "4                                   0.0                      1.0   \n",
       "\n",
       "   PLAN_OWNERSHIP_Self  PLAN_OWNERSHIP_Spouse  PLAN_OWNERSHIP_Unknown  \n",
       "0                  1.0                    0.0                     0.0  \n",
       "1                  1.0                    1.0                     0.0  \n",
       "2                  1.0                    1.0                     0.0  \n",
       "3                  1.0                    1.0                     0.0  \n",
       "4                  1.0                    0.0                     0.0  \n",
       "\n",
       "[5 rows x 281 columns]"
      ]
     },
     "execution_count": 5,
     "metadata": {},
     "output_type": "execute_result"
    }
   ],
   "source": [
    "df_master_clean.head()"
   ]
  },
  {
   "cell_type": "code",
   "execution_count": 6,
   "id": "78beadd1",
   "metadata": {},
   "outputs": [
    {
     "data": {
      "text/plain": [
       "(114, 281)"
      ]
     },
     "execution_count": 6,
     "metadata": {},
     "output_type": "execute_result"
    }
   ],
   "source": [
    "df_master_clean.shape"
   ]
  },
  {
   "cell_type": "code",
   "execution_count": 7,
   "id": "81cd188e",
   "metadata": {},
   "outputs": [
    {
     "data": {
      "image/png": "[encoded data removed]",
      "text/plain": [
       "<Figure size 1800x800 with 1 Axes>"
      ]
     },
     "metadata": {},
     "output_type": "display_data"
    }
   ],
   "source": [
    "from scipy.cluster.hierarchy import linkage, dendrogram\n",
    "import matplotlib.pyplot as plt\n",
    "import numpy as np\n",
    "\n",
    "# Drop the PATIENT column\n",
    "X = df_master_clean.drop(columns=['PATIENT'])\n",
    "\n",
    "# Perform hierarchical clustering (linkage matrix)\n",
    "linkage_matrix = linkage(X, method='ward')  # Ward minimizes variance within clusters\n",
    "\n",
    "# Plot the dendrogram\n",
    "plt.figure(figsize=(18, 8))\n",
    "dendrogram(linkage_matrix, truncate_mode='level', p=5, leaf_rotation=90., leaf_font_size=10., show_contracted=True)\n",
    "plt.title('Hierarchical Clustering Dendrogram (truncated)')\n",
    "plt.xlabel('Sample index or (cluster size)')\n",
    "plt.ylabel('Distance')\n",
    "plt.axhline(y=500, color='r', linestyle='--')  # Tentative cut line\n",
    "plt.grid(True)\n",
    "plt.show()\n"
   ]
  },
  {
   "cell_type": "code",
   "execution_count": 9,
   "id": "abd973cc",
   "metadata": {},
   "outputs": [
    {
     "data": {
      "text/plain": [
       "Cluster\n",
       "1    66\n",
       "2     8\n",
       "3    40\n",
       "Name: count, dtype: int64"
      ]
     },
     "execution_count": 9,
     "metadata": {},
     "output_type": "execute_result"
    }
   ],
   "source": [
    "# Reimport libraries and reload the dataset\n",
    "import pandas as pd\n",
    "from scipy.cluster.hierarchy import linkage, fcluster\n",
    "import matplotlib.pyplot as plt\n",
    "\n",
    "# Load the dataset again\n",
    "df_master_clean = pd.read_csv('df_master_cleaned.csv')\n",
    "\n",
    "# Drop the PATIENT column for clustering\n",
    "X = df_master_clean.drop(columns=['PATIENT'])\n",
    "\n",
    "# Perform hierarchical clustering again\n",
    "linkage_matrix = linkage(X, method='ward')\n",
    "\n",
    "# Assign cluster labels (we want 3 clusters)\n",
    "cluster_labels = fcluster(linkage_matrix, t=3, criterion='maxclust')\n",
    "\n",
    "# Add cluster labels back to the original DataFrame\n",
    "df_clusters = df_master_clean.copy()\n",
    "df_clusters['Cluster'] = cluster_labels\n",
    "\n",
    "# Check the cluster counts\n",
    "cluster_counts = df_clusters['Cluster'].value_counts().sort_index()\n",
    "\n",
    "cluster_counts\n",
    "\n"
   ]
  },
  {
   "cell_type": "markdown",
   "id": "f9b01242",
   "metadata": {},
   "source": [
    "## GMM"
   ]
  },
  {
   "cell_type": "code",
   "execution_count": 11,
   "id": "f458b509",
   "metadata": {},
   "outputs": [
    {
     "data": {
      "text/plain": [
       "3"
      ]
     },
     "execution_count": 11,
     "metadata": {},
     "output_type": "execute_result"
    }
   ],
   "source": [
    "from sklearn.decomposition import PCA\n",
    "\n",
    "# Apply PCA to retain 95% variance\n",
    "pca = PCA(n_components=0.95, random_state=42)\n",
    "X_pca = pca.fit_transform(X)\n",
    "\n",
    "# How many components were selected?\n",
    "n_pcs = X_pca.shape[1]\n",
    "\n",
    "n_pcs\n"
   ]
  },
  {
   "cell_type": "code",
   "execution_count": 13,
   "id": "cb29908b",
   "metadata": {},
   "outputs": [
    {
     "ename": "NameError",
     "evalue": "name 'GaussianMixture' is not defined",
     "output_type": "error",
     "traceback": [
      "\u001b[1;31m---------------------------------------------------------------------------\u001b[0m",
      "\u001b[1;31mNameError\u001b[0m                                 Traceback (most recent call last)",
      "Cell \u001b[1;32mIn[13], line 7\u001b[0m\n\u001b[0;32m      4\u001b[0m n_components_range \u001b[38;5;241m=\u001b[39m \u001b[38;5;28mrange\u001b[39m(\u001b[38;5;241m1\u001b[39m, \u001b[38;5;241m10\u001b[39m)  \u001b[38;5;66;03m# Testing 1 to 9 clusters\u001b[39;00m\n\u001b[0;32m      6\u001b[0m \u001b[38;5;28;01mfor\u001b[39;00m n \u001b[38;5;129;01min\u001b[39;00m n_components_range:\n\u001b[1;32m----> 7\u001b[0m     gmm \u001b[38;5;241m=\u001b[39m \u001b[43mGaussianMixture\u001b[49m(n_components\u001b[38;5;241m=\u001b[39mn, covariance_type\u001b[38;5;241m=\u001b[39m\u001b[38;5;124m'\u001b[39m\u001b[38;5;124mfull\u001b[39m\u001b[38;5;124m'\u001b[39m, random_state\u001b[38;5;241m=\u001b[39m\u001b[38;5;241m42\u001b[39m)\n\u001b[0;32m      8\u001b[0m     gmm\u001b[38;5;241m.\u001b[39mfit(X_pca)\n\u001b[0;32m      9\u001b[0m     bics\u001b[38;5;241m.\u001b[39mappend(gmm\u001b[38;5;241m.\u001b[39mbic(X_pca))\n",
      "\u001b[1;31mNameError\u001b[0m: name 'GaussianMixture' is not defined"
     ]
    }
   ],
   "source": [
    "# Try different number of components again after PCA\n",
    "bics = []\n",
    "aics = []\n",
    "n_components_range = range(1, 10)  # Testing 1 to 9 clusters\n",
    "\n",
    "for n in n_components_range:\n",
    "    gmm = GaussianMixture(n_components=n, covariance_type='full', random_state=42)\n",
    "    gmm.fit(X_pca)\n",
    "    bics.append(gmm.bic(X_pca))\n",
    "    aics.append(gmm.aic(X_pca))\n",
    "\n",
    "# Plot BIC and AIC\n",
    "plt.figure(figsize=(12, 6))\n",
    "plt.plot(n_components_range, bics, label='BIC', marker='o')\n",
    "plt.plot(n_components_range, aics, label='AIC', marker='o')\n",
    "plt.xlabel('Number of clusters')\n",
    "plt.ylabel('Score')\n",
    "plt.title('GMM Model Selection After PCA (BIC and AIC)')\n",
    "plt.legend()\n",
    "plt.grid(True)\n",
    "plt.show()\n",
    "\n",
    "# Optimal number of clusters based on BIC\n",
    "optimal_n_components = n_components_range[np.argmin(bics)]\n",
    "optimal_n_components\n"
   ]
  },
  {
   "cell_type": "code",
   "execution_count": 12,
   "id": "0e9e123c",
   "metadata": {},
   "outputs": [
    {
     "ename": "NameError",
     "evalue": "name 'n_components_range' is not defined",
     "output_type": "error",
     "traceback": [
      "\u001b[1;31m---------------------------------------------------------------------------\u001b[0m",
      "\u001b[1;31mNameError\u001b[0m                                 Traceback (most recent call last)",
      "Cell \u001b[1;32mIn[12], line 5\u001b[0m\n\u001b[0;32m      2\u001b[0m bics \u001b[38;5;241m=\u001b[39m []\n\u001b[0;32m      3\u001b[0m aics \u001b[38;5;241m=\u001b[39m []\n\u001b[1;32m----> 5\u001b[0m \u001b[38;5;28;01mfor\u001b[39;00m n \u001b[38;5;129;01min\u001b[39;00m \u001b[43mn_components_range\u001b[49m:\n\u001b[0;32m      6\u001b[0m     gmm \u001b[38;5;241m=\u001b[39m GaussianMixture(n_components\u001b[38;5;241m=\u001b[39mn, covariance_type\u001b[38;5;241m=\u001b[39m\u001b[38;5;124m'\u001b[39m\u001b[38;5;124mfull\u001b[39m\u001b[38;5;124m'\u001b[39m, reg_covar\u001b[38;5;241m=\u001b[39m\u001b[38;5;241m1e-3\u001b[39m, random_state\u001b[38;5;241m=\u001b[39m\u001b[38;5;241m42\u001b[39m)\n\u001b[0;32m      7\u001b[0m     gmm\u001b[38;5;241m.\u001b[39mfit(X_pca)\n",
      "\u001b[1;31mNameError\u001b[0m: name 'n_components_range' is not defined"
     ]
    }
   ],
   "source": [
    "# Retry with regularization to stabilize GMM\n",
    "bics = []\n",
    "aics = []\n",
    "\n",
    "for n in n_components_range:\n",
    "    gmm = GaussianMixture(n_components=n, covariance_type='full', reg_covar=1e-3, random_state=42)\n",
    "    gmm.fit(X_pca)\n",
    "    bics.append(gmm.bic(X_pca))\n",
    "    aics.append(gmm.aic(X_pca))\n",
    "\n",
    "# Plot BIC and AIC again\n",
    "plt.figure(figsize=(12, 6))\n",
    "plt.plot(n_components_range, bics, label='BIC', marker='o')\n",
    "plt.plot(n_components_range, aics, label='AIC', marker='o')\n",
    "plt.xlabel('Number of clusters')\n",
    "plt.ylabel('Score')\n",
    "plt.title('GMM Model Selection After PCA with Regularization (BIC and AIC)')\n",
    "plt.legend()\n",
    "plt.grid(True)\n",
    "plt.show()\n",
    "\n",
    "# Best number of components based on BIC\n",
    "optimal_n_components = n_components_range[np.argmin(bics)]\n",
    "optimal_n_components\n"
   ]
  },
  {
   "cell_type": "code",
   "execution_count": 14,
   "id": "c2a488df",
   "metadata": {},
   "outputs": [
    {
     "ename": "NameError",
     "evalue": "name 'df_gmm_clusters' is not defined",
     "output_type": "error",
     "traceback": [
      "\u001b[1;31m---------------------------------------------------------------------------\u001b[0m",
      "\u001b[1;31mNameError\u001b[0m                                 Traceback (most recent call last)",
      "Cell \u001b[1;32mIn[14], line 2\u001b[0m\n\u001b[0;32m      1\u001b[0m \u001b[38;5;66;03m# Remove PATIENT column for profiling\u001b[39;00m\n\u001b[1;32m----> 2\u001b[0m df_gmm_profile \u001b[38;5;241m=\u001b[39m \u001b[43mdf_gmm_clusters\u001b[49m\u001b[38;5;241m.\u001b[39mdrop(columns\u001b[38;5;241m=\u001b[39m[\u001b[38;5;124m'\u001b[39m\u001b[38;5;124mPATIENT\u001b[39m\u001b[38;5;124m'\u001b[39m])\n\u001b[0;32m      4\u001b[0m \u001b[38;5;66;03m# Age Summary\u001b[39;00m\n\u001b[0;32m      5\u001b[0m age_summary_gmm \u001b[38;5;241m=\u001b[39m df_gmm_profile\u001b[38;5;241m.\u001b[39mgroupby(\u001b[38;5;124m'\u001b[39m\u001b[38;5;124mCluster\u001b[39m\u001b[38;5;124m'\u001b[39m)[\u001b[38;5;124m'\u001b[39m\u001b[38;5;124mAGE\u001b[39m\u001b[38;5;124m'\u001b[39m]\u001b[38;5;241m.\u001b[39mdescribe()\n",
      "\u001b[1;31mNameError\u001b[0m: name 'df_gmm_clusters' is not defined"
     ]
    }
   ],
   "source": [
    "# Remove PATIENT column for profiling\n",
    "df_gmm_profile = df_gmm_clusters.drop(columns=['PATIENT'])\n",
    "\n",
    "# Age Summary\n",
    "age_summary_gmm = df_gmm_profile.groupby('Cluster')['AGE'].describe()\n",
    "\n",
    "# Chronic Conditions (same as earlier)\n",
    "chronic_condition_cols = [col for col in df_gmm_profile.columns if any(cond.lower() in col.lower() for cond in chronic_conditions)]\n",
    "chronic_prevalence_gmm = df_gmm_profile.groupby('Cluster')[chronic_condition_cols].mean()\n",
    "\n",
    "# Social Determinants: Education and Employment\n",
    "sdoh_cols = [col for col in df_gmm_profile.columns if 'education' in col.lower() or 'employment' in col.lower()]\n",
    "sdoh_summary_gmm = df_gmm_profile.groupby('Cluster')[sdoh_cols].mean()\n",
    "\n",
    "# Financial Indicators\n",
    "financial_cols = ['INCOME', 'HEALTHCARE_EXPENSES', 'HEALTHCARE_COVERAGE']\n",
    "financial_summary_gmm = df_gmm_profile.groupby('Cluster')[financial_cols].mean()\n",
    "\n",
    "# Collect results\n",
    "gmm_summary_results = {\n",
    "    'Age Summary': age_summary_gmm,\n",
    "    'Chronic Conditions Prevalence': chronic_prevalence_gmm,\n",
    "    'Social Determinants Summary': sdoh_summary_gmm,\n",
    "    'Financial Summary': financial_summary_gmm\n",
    "}\n",
    "\n",
    "import ace_tools as tools; tools.display_dataframe_to_user(name=\"GMM Cluster Age Summary\", dataframe=age_summary_gmm)\n",
    "gmm_summary_results\n"
   ]
  },
  {
   "cell_type": "code",
   "execution_count": 15,
   "id": "207e0ac5",
   "metadata": {},
   "outputs": [
    {
     "data": {
      "image/png": "[encoded data removed]",
      "text/plain": [
       "<Figure size 1000x500 with 1 Axes>"
      ]
     },
     "metadata": {},
     "output_type": "display_data"
    }
   ],
   "source": [
    "from sklearn.cluster import DBSCAN\n",
    "from sklearn.preprocessing import StandardScaler\n",
    "from sklearn.neighbors import NearestNeighbors\n",
    "import numpy as np\n",
    "\n",
    "# Data is already scaled (PCA-reduced X_pca)\n",
    "# DBSCAN works better if features are on similar scale (which PCA already does)\n",
    "\n",
    "# First, estimate a good epsilon (eps) using k-nearest neighbor plot\n",
    "# Typical heuristic: Look for 'elbow' in k-distance plot for k = min_samples\n",
    "min_samples = 5\n",
    "\n",
    "# Compute nearest neighbors\n",
    "neighbors = NearestNeighbors(n_neighbors=min_samples)\n",
    "neighbors_fit = neighbors.fit(X_pca)\n",
    "distances, indices = neighbors_fit.kneighbors(X_pca)\n",
    "\n",
    "# Sort distances (k-th nearest neighbor distance)\n",
    "distances = np.sort(distances[:, -1])\n",
    "\n",
    "# Plot k-distance graph\n",
    "plt.figure(figsize=(10, 5))\n",
    "plt.plot(distances)\n",
    "plt.title('k-NN Distance Plot (for DBSCAN eps estimation)')\n",
    "plt.xlabel('Points sorted by distance')\n",
    "plt.ylabel(f'Distance to {min_samples}-th nearest neighbor')\n",
    "plt.grid(True)\n",
    "plt.show()\n"
   ]
  },
  {
   "cell_type": "code",
   "execution_count": 16,
   "id": "0e012d1e",
   "metadata": {},
   "outputs": [
    {
     "data": {
      "text/plain": [
       "Cluster\n",
       "-1    36\n",
       " 0    71\n",
       " 1     7\n",
       "Name: count, dtype: int64"
      ]
     },
     "execution_count": 16,
     "metadata": {},
     "output_type": "execute_result"
    }
   ],
   "source": [
    "# Apply DBSCAN\n",
    "dbscan = DBSCAN(eps=150000, min_samples=5)\n",
    "dbscan_labels = dbscan.fit_predict(X_pca)\n",
    "\n",
    "# Add labels to DataFrame\n",
    "df_dbscan_clusters = df_master_clean.copy()\n",
    "df_dbscan_clusters['Cluster'] = dbscan_labels  # -1 means noise\n",
    "\n",
    "# Check the distribution\n",
    "dbscan_cluster_counts = df_dbscan_clusters['Cluster'].value_counts().sort_index()\n",
    "\n",
    "dbscan_cluster_counts\n"
   ]
  },
  {
   "cell_type": "code",
   "execution_count": null,
   "id": "ff35f46f",
   "metadata": {},
   "outputs": [],
   "source": []
  }
 ],
 "metadata": {
  "kernelspec": {
   "display_name": ".venv",
   "language": "python",
   "name": "python3"
  },
  "language_info": {
   "codemirror_mode": {
    "name": "ipython",
    "version": 3
   },
   "file_extension": ".py",
   "mimetype": "text/x-python",
   "name": "python",
   "nbconvert_exporter": "python",
   "pygments_lexer": "ipython3",
   "version": "3.12.2"
  }
 },
 "nbformat": 4,
 "nbformat_minor": 5
}
